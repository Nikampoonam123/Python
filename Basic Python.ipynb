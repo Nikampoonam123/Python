{
 "cells": [
  {
   "cell_type": "markdown",
   "id": "b2f1aab7",
   "metadata": {},
   "source": [
    "# Basic of Python"
   ]
  },
  {
   "cell_type": "markdown",
   "id": "20244591",
   "metadata": {},
   "source": [
    "- ESC+M = Markdown\n",
    "- ESC+1 = TItle/Heading\n",
    "- ESC+Y = Code\n",
    "- function(Shift + Tab) = Shows argument of function  e.g. s.upper(here press shift+tab)"
   ]
  },
  {
   "cell_type": "markdown",
   "id": "8a2cd011",
   "metadata": {},
   "source": [
    "# Variable Creation in Python\n",
    "- Variables acts as a container to store data in memory space.\n",
    "- Variables are pointer towards object in python\n",
    "- Variables can start with letters or underscore.\n",
    "- You cannot include special characters while creating a variable.\n",
    "\n",
    "**Important to remeber while creating variables**\n",
    "1. Python is case sensitive\n",
    "2. If variable name involves more than 2 words, join those words with underscore.\n",
    "3. Give meaningful name to variables"
   ]
  },
  {
   "cell_type": "code",
   "execution_count": 1,
   "id": "5abeb776",
   "metadata": {},
   "outputs": [
    {
     "data": {
      "text/plain": [
       "10"
      ]
     },
     "execution_count": 1,
     "metadata": {},
     "output_type": "execute_result"
    }
   ],
   "source": [
    "10"
   ]
  },
  {
   "cell_type": "code",
   "execution_count": 2,
   "id": "02c01fe0",
   "metadata": {},
   "outputs": [
    {
     "data": {
      "text/plain": [
       "10"
      ]
     },
     "execution_count": 2,
     "metadata": {},
     "output_type": "execute_result"
    }
   ],
   "source": [
    "a = 10\n",
    "a"
   ]
  },
  {
   "cell_type": "code",
   "execution_count": 3,
   "id": "026989f8",
   "metadata": {},
   "outputs": [
    {
     "data": {
      "text/plain": [
       "140715418424392"
      ]
     },
     "execution_count": 3,
     "metadata": {},
     "output_type": "execute_result"
    }
   ],
   "source": [
    "id(a)"
   ]
  },
  {
   "cell_type": "code",
   "execution_count": 4,
   "id": "17d3667b",
   "metadata": {},
   "outputs": [
    {
     "ename": "SyntaxError",
     "evalue": "invalid decimal literal (3915820541.py, line 1)",
     "output_type": "error",
     "traceback": [
      "\u001b[1;36m  Cell \u001b[1;32mIn[4], line 1\u001b[1;36m\u001b[0m\n\u001b[1;33m    2name = 'Python'  # variable name always starts with letter\u001b[0m\n\u001b[1;37m    ^\u001b[0m\n\u001b[1;31mSyntaxError\u001b[0m\u001b[1;31m:\u001b[0m invalid decimal literal\n"
     ]
    }
   ],
   "source": [
    "2name = 'Python'  # variable name always starts with letter\n",
    "2name"
   ]
  },
  {
   "cell_type": "code",
   "execution_count": 7,
   "id": "d4bf0100",
   "metadata": {},
   "outputs": [
    {
     "data": {
      "text/plain": [
       "'Python'"
      ]
     },
     "execution_count": 7,
     "metadata": {},
     "output_type": "execute_result"
    }
   ],
   "source": [
    "name2 = 'Python'  #variable start with letter after that nos. are allowed\n",
    "name2"
   ]
  },
  {
   "cell_type": "code",
   "execution_count": 8,
   "id": "a7d17437",
   "metadata": {},
   "outputs": [
    {
     "ename": "SyntaxError",
     "evalue": "invalid syntax. Maybe you meant '==' or ':=' instead of '='? (3532689374.py, line 1)",
     "output_type": "error",
     "traceback": [
      "\u001b[1;36m  Cell \u001b[1;32mIn[8], line 1\u001b[1;36m\u001b[0m\n\u001b[1;33m    @Name = \"Poonam\"  #special character are not alloweded except _\u001b[0m\n\u001b[1;37m     ^\u001b[0m\n\u001b[1;31mSyntaxError\u001b[0m\u001b[1;31m:\u001b[0m invalid syntax. Maybe you meant '==' or ':=' instead of '='?\n"
     ]
    }
   ],
   "source": [
    "@Name = \"Poonam\"  #special character are not alloweded except _\n",
    "@Name"
   ]
  },
  {
   "cell_type": "markdown",
   "id": "4fd45428",
   "metadata": {},
   "source": [
    "- **Single Line Comment** \n",
    "\n",
    "**By using # we can write comment**"
   ]
  },
  {
   "cell_type": "code",
   "execution_count": 9,
   "id": "dbfdca33",
   "metadata": {},
   "outputs": [
    {
     "data": {
      "text/plain": [
       "'Poonam'"
      ]
     },
     "execution_count": 9,
     "metadata": {},
     "output_type": "execute_result"
    }
   ],
   "source": [
    "Name_1 =\"Poonam\"  # use only _ as special character\n",
    "Name_1"
   ]
  },
  {
   "cell_type": "code",
   "execution_count": 10,
   "id": "a4d66d87",
   "metadata": {},
   "outputs": [
    {
     "data": {
      "text/plain": [
       "60"
      ]
     },
     "execution_count": 10,
     "metadata": {},
     "output_type": "execute_result"
    }
   ],
   "source": [
    "Age = 60 # age variable contains value 60\n",
    "Age"
   ]
  },
  {
   "cell_type": "markdown",
   "id": "22777290",
   "metadata": {},
   "source": [
    "- **Multi Line Comment**\n",
    "\n",
    "**Triple quote is used for Multiline comment**"
   ]
  },
  {
   "cell_type": "code",
   "execution_count": 11,
   "id": "9c743e7e",
   "metadata": {},
   "outputs": [
    {
     "data": {
      "text/plain": [
       "'My name is Poonam Sanjay Nikam.\\nI am 22 years old.\\nRecently, I am live in Pune.'"
      ]
     },
     "execution_count": 11,
     "metadata": {},
     "output_type": "execute_result"
    }
   ],
   "source": [
    "'''My name is Poonam Sanjay Nikam.\n",
    "I am 22 years old.\n",
    "Recently, I am live in Pune.'''"
   ]
  },
  {
   "cell_type": "markdown",
   "id": "b4094639",
   "metadata": {},
   "source": [
    "- Equality Operator"
   ]
  },
  {
   "cell_type": "code",
   "execution_count": 12,
   "id": "a37c1566",
   "metadata": {},
   "outputs": [],
   "source": [
    "s = 'Python'\n",
    "s1 = 'python'\n",
    "s2 = 'Python'"
   ]
  },
  {
   "cell_type": "code",
   "execution_count": 13,
   "id": "a40dd12d",
   "metadata": {},
   "outputs": [
    {
     "data": {
      "text/plain": [
       "False"
      ]
     },
     "execution_count": 13,
     "metadata": {},
     "output_type": "execute_result"
    }
   ],
   "source": [
    "s == s1  "
   ]
  },
  {
   "cell_type": "code",
   "execution_count": 14,
   "id": "a07a53f0",
   "metadata": {},
   "outputs": [
    {
     "data": {
      "text/plain": [
       "True"
      ]
     },
     "execution_count": 14,
     "metadata": {},
     "output_type": "execute_result"
    }
   ],
   "source": [
    "s == s2"
   ]
  },
  {
   "cell_type": "markdown",
   "id": "04bce5f4",
   "metadata": {},
   "source": [
    "# Data types \n",
    "- Integers\n",
    "- Float\n",
    "- String\n",
    "- Boolean"
   ]
  },
  {
   "cell_type": "code",
   "execution_count": 15,
   "id": "aca08e7d",
   "metadata": {},
   "outputs": [
    {
     "data": {
      "text/plain": [
       "5"
      ]
     },
     "execution_count": 15,
     "metadata": {},
     "output_type": "execute_result"
    }
   ],
   "source": [
    "a = 5  # Integer\n",
    "a"
   ]
  },
  {
   "cell_type": "code",
   "execution_count": 16,
   "id": "cf540d8f",
   "metadata": {},
   "outputs": [
    {
     "data": {
      "text/plain": [
       "12.3"
      ]
     },
     "execution_count": 16,
     "metadata": {},
     "output_type": "execute_result"
    }
   ],
   "source": [
    "b =12.3  # float\n",
    "b"
   ]
  },
  {
   "cell_type": "code",
   "execution_count": 17,
   "id": "51e9800b",
   "metadata": {},
   "outputs": [
    {
     "data": {
      "text/plain": [
       "'Poonam'"
      ]
     },
     "execution_count": 17,
     "metadata": {},
     "output_type": "execute_result"
    }
   ],
   "source": [
    "c = 'Poonam'  #string\n",
    "c"
   ]
  },
  {
   "cell_type": "code",
   "execution_count": 18,
   "id": "81980a1f",
   "metadata": {},
   "outputs": [
    {
     "data": {
      "text/plain": [
       "True"
      ]
     },
     "execution_count": 18,
     "metadata": {},
     "output_type": "execute_result"
    }
   ],
   "source": [
    "d = True  #boolean\n",
    "d"
   ]
  },
  {
   "cell_type": "markdown",
   "id": "0b81eedc",
   "metadata": {},
   "source": [
    "- **type Function**\n",
    "\n",
    "*It gives a data type*"
   ]
  },
  {
   "cell_type": "code",
   "execution_count": 19,
   "id": "4dfebcf1",
   "metadata": {},
   "outputs": [
    {
     "data": {
      "text/plain": [
       "int"
      ]
     },
     "execution_count": 19,
     "metadata": {},
     "output_type": "execute_result"
    }
   ],
   "source": [
    "type(a)"
   ]
  },
  {
   "cell_type": "code",
   "execution_count": 20,
   "id": "8a96f47a",
   "metadata": {},
   "outputs": [
    {
     "data": {
      "text/plain": [
       "float"
      ]
     },
     "execution_count": 20,
     "metadata": {},
     "output_type": "execute_result"
    }
   ],
   "source": [
    "type(b)"
   ]
  },
  {
   "cell_type": "code",
   "execution_count": 21,
   "id": "0c543b06",
   "metadata": {},
   "outputs": [
    {
     "data": {
      "text/plain": [
       "str"
      ]
     },
     "execution_count": 21,
     "metadata": {},
     "output_type": "execute_result"
    }
   ],
   "source": [
    "type(c)"
   ]
  },
  {
   "cell_type": "code",
   "execution_count": 22,
   "id": "4bffc2b8",
   "metadata": {},
   "outputs": [
    {
     "data": {
      "text/plain": [
       "bool"
      ]
     },
     "execution_count": 22,
     "metadata": {},
     "output_type": "execute_result"
    }
   ],
   "source": [
    "type(d)"
   ]
  },
  {
   "cell_type": "code",
   "execution_count": 23,
   "id": "de9d16f7",
   "metadata": {},
   "outputs": [
    {
     "ename": "SyntaxError",
     "evalue": "unterminated string literal (detected at line 2) (2402405426.py, line 2)",
     "output_type": "error",
     "traceback": [
      "\u001b[1;36m  Cell \u001b[1;32mIn[23], line 2\u001b[1;36m\u001b[0m\n\u001b[1;33m    st = 'It's a Laptop'\u001b[0m\n\u001b[1;37m                       ^\u001b[0m\n\u001b[1;31mSyntaxError\u001b[0m\u001b[1;31m:\u001b[0m unterminated string literal (detected at line 2)\n"
     ]
    }
   ],
   "source": [
    "#grammatically correct but python can not understand this\n",
    "st = 'It's a Laptop'      "
   ]
  },
  {
   "cell_type": "code",
   "execution_count": 24,
   "id": "ae662464",
   "metadata": {},
   "outputs": [
    {
     "data": {
      "text/plain": [
       "\"It's a Laptop\""
      ]
     },
     "execution_count": 24,
     "metadata": {},
     "output_type": "execute_result"
    }
   ],
   "source": [
    "st1 = \"It's a Laptop\"    # Correct syntax\n",
    "st1"
   ]
  },
  {
   "cell_type": "code",
   "execution_count": 25,
   "id": "0d695f5d",
   "metadata": {},
   "outputs": [
    {
     "data": {
      "text/plain": [
       "'It\"s aLaptop'"
      ]
     },
     "execution_count": 25,
     "metadata": {},
     "output_type": "execute_result"
    }
   ],
   "source": [
    "st2 = 'It\"s aLaptop'  # correct syntax but gramatically not well\n",
    "st2"
   ]
  },
  {
   "cell_type": "markdown",
   "id": "9747f695",
   "metadata": {},
   "source": [
    "# Type Casting\n",
    "- It converts one data type in another data type"
   ]
  },
  {
   "cell_type": "code",
   "execution_count": 26,
   "id": "89506f42",
   "metadata": {},
   "outputs": [
    {
     "data": {
      "text/plain": [
       "int"
      ]
     },
     "execution_count": 26,
     "metadata": {},
     "output_type": "execute_result"
    }
   ],
   "source": [
    "Age\n",
    "type(Age)"
   ]
  },
  {
   "cell_type": "code",
   "execution_count": 27,
   "id": "e30e51f2",
   "metadata": {},
   "outputs": [
    {
     "data": {
      "text/plain": [
       "'60'"
      ]
     },
     "execution_count": 27,
     "metadata": {},
     "output_type": "execute_result"
    }
   ],
   "source": [
    "x = str(Age) #converts into string\n",
    "x"
   ]
  },
  {
   "cell_type": "code",
   "execution_count": 28,
   "id": "b801b0f4",
   "metadata": {},
   "outputs": [
    {
     "data": {
      "text/plain": [
       "str"
      ]
     },
     "execution_count": 28,
     "metadata": {},
     "output_type": "execute_result"
    }
   ],
   "source": [
    "type(x)"
   ]
  },
  {
   "cell_type": "code",
   "execution_count": 29,
   "id": "9f4a31dc",
   "metadata": {},
   "outputs": [
    {
     "data": {
      "text/plain": [
       "60.0"
      ]
     },
     "execution_count": 29,
     "metadata": {},
     "output_type": "execute_result"
    }
   ],
   "source": [
    "float(Age)  #age is an integer and it converts age in float"
   ]
  },
  {
   "cell_type": "code",
   "execution_count": 30,
   "id": "470f7641",
   "metadata": {},
   "outputs": [
    {
     "data": {
      "text/plain": [
       "True"
      ]
     },
     "execution_count": 30,
     "metadata": {},
     "output_type": "execute_result"
    }
   ],
   "source": [
    "bool(-5)  #It convert all integers into bool with true value except zero"
   ]
  },
  {
   "cell_type": "code",
   "execution_count": 31,
   "id": "76202920",
   "metadata": {},
   "outputs": [
    {
     "data": {
      "text/plain": [
       "True"
      ]
     },
     "execution_count": 31,
     "metadata": {},
     "output_type": "execute_result"
    }
   ],
   "source": [
    "bool(2)"
   ]
  },
  {
   "cell_type": "code",
   "execution_count": 32,
   "id": "050f371e",
   "metadata": {},
   "outputs": [
    {
     "data": {
      "text/plain": [
       "False"
      ]
     },
     "execution_count": 32,
     "metadata": {},
     "output_type": "execute_result"
    }
   ],
   "source": [
    "bool(0)  #zero takes false value"
   ]
  },
  {
   "cell_type": "markdown",
   "id": "6c490e5b",
   "metadata": {},
   "source": [
    "*We can convert any type of values to bool type, and the output for all values will be True ,Except 0, which is False*"
   ]
  },
  {
   "cell_type": "markdown",
   "id": "818f181c",
   "metadata": {},
   "source": [
    "## String Methods"
   ]
  },
  {
   "cell_type": "code",
   "execution_count": 33,
   "id": "0d70f18f",
   "metadata": {},
   "outputs": [],
   "source": [
    "s = 'We are learning Python.'"
   ]
  },
  {
   "cell_type": "markdown",
   "id": "c0ae4f6c",
   "metadata": {},
   "source": [
    "- Capitalize"
   ]
  },
  {
   "cell_type": "code",
   "execution_count": 34,
   "id": "724c2ec6",
   "metadata": {},
   "outputs": [
    {
     "data": {
      "text/plain": [
       "'We are learning python.'"
      ]
     },
     "execution_count": 34,
     "metadata": {},
     "output_type": "execute_result"
    }
   ],
   "source": [
    "s.capitalize()   # 1st letter of string is in upper case"
   ]
  },
  {
   "cell_type": "markdown",
   "id": "4f9e5f9e",
   "metadata": {},
   "source": [
    "- Upper"
   ]
  },
  {
   "cell_type": "code",
   "execution_count": 35,
   "id": "e4c771cb",
   "metadata": {},
   "outputs": [
    {
     "data": {
      "text/plain": [
       "'WE ARE LEARNING PYTHON.'"
      ]
     },
     "execution_count": 35,
     "metadata": {},
     "output_type": "execute_result"
    }
   ],
   "source": [
    "s.upper()  #all letters converts into uppercase"
   ]
  },
  {
   "cell_type": "markdown",
   "id": "db5603b3",
   "metadata": {},
   "source": [
    "- Lower"
   ]
  },
  {
   "cell_type": "code",
   "execution_count": 36,
   "id": "9c5a1902",
   "metadata": {},
   "outputs": [
    {
     "data": {
      "text/plain": [
       "'we are learning python.'"
      ]
     },
     "execution_count": 36,
     "metadata": {},
     "output_type": "execute_result"
    }
   ],
   "source": [
    "s.lower()  #all letters converts into lowercase"
   ]
  },
  {
   "cell_type": "markdown",
   "id": "1f2d5b69",
   "metadata": {},
   "source": [
    "- Count"
   ]
  },
  {
   "cell_type": "code",
   "execution_count": 37,
   "id": "44d19dce",
   "metadata": {},
   "outputs": [
    {
     "data": {
      "text/plain": [
       "2"
      ]
     },
     "execution_count": 37,
     "metadata": {},
     "output_type": "execute_result"
    }
   ],
   "source": [
    "s.count('a')  #calculate occurance of letter or word"
   ]
  },
  {
   "cell_type": "code",
   "execution_count": 38,
   "id": "dc6b8f25",
   "metadata": {},
   "outputs": [
    {
     "data": {
      "text/plain": [
       "3"
      ]
     },
     "execution_count": 38,
     "metadata": {},
     "output_type": "execute_result"
    }
   ],
   "source": [
    "s.count(' ')  #it calculate spaces in sentence"
   ]
  },
  {
   "cell_type": "markdown",
   "id": "515d7725",
   "metadata": {},
   "source": [
    "- startswith and endswith"
   ]
  },
  {
   "cell_type": "code",
   "execution_count": 39,
   "id": "6ea3fdcf",
   "metadata": {},
   "outputs": [
    {
     "data": {
      "text/plain": [
       "True"
      ]
     },
     "execution_count": 39,
     "metadata": {},
     "output_type": "execute_result"
    }
   ],
   "source": [
    "s.startswith('W')  #check whether it starts with given letter or not"
   ]
  },
  {
   "cell_type": "code",
   "execution_count": 40,
   "id": "5eb49c7e",
   "metadata": {},
   "outputs": [
    {
     "data": {
      "text/plain": [
       "False"
      ]
     },
     "execution_count": 40,
     "metadata": {},
     "output_type": "execute_result"
    }
   ],
   "source": [
    "s.startswith('w')"
   ]
  },
  {
   "cell_type": "code",
   "execution_count": 41,
   "id": "ac335b64",
   "metadata": {},
   "outputs": [
    {
     "data": {
      "text/plain": [
       "False"
      ]
     },
     "execution_count": 41,
     "metadata": {},
     "output_type": "execute_result"
    }
   ],
   "source": [
    "s.endswith('n')  #check whether it ends with given letter or not"
   ]
  },
  {
   "cell_type": "code",
   "execution_count": 42,
   "id": "9a12c768",
   "metadata": {},
   "outputs": [
    {
     "data": {
      "text/plain": [
       "True"
      ]
     },
     "execution_count": 42,
     "metadata": {},
     "output_type": "execute_result"
    }
   ],
   "source": [
    "s.endswith('.')"
   ]
  },
  {
   "cell_type": "markdown",
   "id": "093bedfb",
   "metadata": {},
   "source": [
    "- find"
   ]
  },
  {
   "cell_type": "code",
   "execution_count": 43,
   "id": "79e797d8",
   "metadata": {},
   "outputs": [
    {
     "data": {
      "text/plain": [
       "0"
      ]
     },
     "execution_count": 43,
     "metadata": {},
     "output_type": "execute_result"
    }
   ],
   "source": [
    "s.find('We')  #it gives index of given "
   ]
  },
  {
   "cell_type": "code",
   "execution_count": 44,
   "id": "b1c87979",
   "metadata": {},
   "outputs": [
    {
     "data": {
      "text/plain": [
       "3"
      ]
     },
     "execution_count": 44,
     "metadata": {},
     "output_type": "execute_result"
    }
   ],
   "source": [
    "s.find('a')"
   ]
  },
  {
   "cell_type": "markdown",
   "id": "3a6af1cb",
   "metadata": {},
   "source": [
    "- replace"
   ]
  },
  {
   "cell_type": "code",
   "execution_count": 45,
   "id": "4008cdd5",
   "metadata": {},
   "outputs": [
    {
     "data": {
      "text/plain": [
       "'They are learning Python.'"
      ]
     },
     "execution_count": 45,
     "metadata": {},
     "output_type": "execute_result"
    }
   ],
   "source": [
    "s.replace('We','They')  # it replace old value with new value and it will save temporarily"
   ]
  },
  {
   "cell_type": "code",
   "execution_count": 46,
   "id": "9111210c",
   "metadata": {},
   "outputs": [
    {
     "data": {
      "text/plain": [
       "'We are learning Python.'"
      ]
     },
     "execution_count": 46,
     "metadata": {},
     "output_type": "execute_result"
    }
   ],
   "source": [
    "s"
   ]
  },
  {
   "cell_type": "code",
   "execution_count": 47,
   "id": "082ad1a1",
   "metadata": {},
   "outputs": [
    {
     "data": {
      "text/plain": [
       "'They are learning Python.'"
      ]
     },
     "execution_count": 47,
     "metadata": {},
     "output_type": "execute_result"
    }
   ],
   "source": [
    "s = s.replace('We','They')  #to store permanent\n",
    "s"
   ]
  },
  {
   "cell_type": "markdown",
   "id": "34883d6e",
   "metadata": {},
   "source": [
    "# Data Structures\n",
    "- It act as container of multiple value or variables\n",
    "- Types \n",
    "1. Homo\n",
    "2. Hetro: a. Mutable b.Immutable\n",
    "    - **List**\n",
    "    - **Tuple**\n",
    "    - **Dictonary**\n",
    "    - **Sets**"
   ]
  },
  {
   "cell_type": "markdown",
   "id": "4ce18976",
   "metadata": {},
   "source": [
    "## List\n",
    "- Lists are Hetrogenous data structure.\n",
    "- Lists are mutable."
   ]
  },
  {
   "cell_type": "code",
   "execution_count": 48,
   "id": "bb02f132",
   "metadata": {},
   "outputs": [
    {
     "data": {
      "text/plain": [
       "list"
      ]
     },
     "execution_count": 48,
     "metadata": {},
     "output_type": "execute_result"
    }
   ],
   "source": [
    "lst = [] # list should be in square bracket only\n",
    "type(lst)"
   ]
  },
  {
   "cell_type": "code",
   "execution_count": 49,
   "id": "ee8e436e",
   "metadata": {},
   "outputs": [
    {
     "data": {
      "text/plain": [
       "[10, 10.2, True, 'Python']"
      ]
     },
     "execution_count": 49,
     "metadata": {},
     "output_type": "execute_result"
    }
   ],
   "source": [
    "lst = [10,10.2,True,'Python']  #creating list\n",
    "lst"
   ]
  },
  {
   "cell_type": "code",
   "execution_count": 50,
   "id": "41463acb",
   "metadata": {},
   "outputs": [
    {
     "data": {
      "text/plain": [
       "[10, 10.2, True, 'Python', False]"
      ]
     },
     "execution_count": 50,
     "metadata": {},
     "output_type": "execute_result"
    }
   ],
   "source": [
    "lst.append(False) #add given value at last position\n",
    "lst"
   ]
  },
  {
   "cell_type": "code",
   "execution_count": 51,
   "id": "4a79b30e",
   "metadata": {},
   "outputs": [
    {
     "data": {
      "text/plain": [
       "[10, 'R', 10.2, True, 'Python', False]"
      ]
     },
     "execution_count": 51,
     "metadata": {},
     "output_type": "execute_result"
    }
   ],
   "source": [
    "lst.insert(1,'R') #add given value at given index position\n",
    "lst"
   ]
  },
  {
   "cell_type": "code",
   "execution_count": 52,
   "id": "619dd231",
   "metadata": {},
   "outputs": [
    {
     "data": {
      "text/plain": [
       "1"
      ]
     },
     "execution_count": 52,
     "metadata": {},
     "output_type": "execute_result"
    }
   ],
   "source": [
    "lst.count(10.2)  #it calculate occurance of given value"
   ]
  },
  {
   "cell_type": "code",
   "execution_count": 53,
   "id": "a477f6e9",
   "metadata": {},
   "outputs": [
    {
     "data": {
      "text/plain": [
       "1"
      ]
     },
     "execution_count": 53,
     "metadata": {},
     "output_type": "execute_result"
    }
   ],
   "source": [
    "lst.index('R') #it gives index number"
   ]
  },
  {
   "cell_type": "code",
   "execution_count": 54,
   "id": "584cd451",
   "metadata": {},
   "outputs": [
    {
     "data": {
      "text/plain": [
       "False"
      ]
     },
     "execution_count": 54,
     "metadata": {},
     "output_type": "execute_result"
    }
   ],
   "source": [
    "lst.pop() # by default it delete value in list at last position"
   ]
  },
  {
   "cell_type": "code",
   "execution_count": 55,
   "id": "a4645843",
   "metadata": {},
   "outputs": [
    {
     "data": {
      "text/plain": [
       "[10, 'R', 10.2, True, 'Python']"
      ]
     },
     "execution_count": 55,
     "metadata": {},
     "output_type": "execute_result"
    }
   ],
   "source": [
    "lst"
   ]
  },
  {
   "cell_type": "code",
   "execution_count": 56,
   "id": "d5dab3fd",
   "metadata": {},
   "outputs": [],
   "source": [
    "lst.remove(10) #remove value from given index number"
   ]
  },
  {
   "cell_type": "code",
   "execution_count": 57,
   "id": "ba4286ba",
   "metadata": {},
   "outputs": [
    {
     "data": {
      "text/plain": [
       "['R', 10.2, True, 'Python']"
      ]
     },
     "execution_count": 57,
     "metadata": {},
     "output_type": "execute_result"
    }
   ],
   "source": [
    "lst"
   ]
  },
  {
   "cell_type": "markdown",
   "id": "6b353088",
   "metadata": {},
   "source": [
    "## Tuple\n",
    "- Tuples are ordered and heterogenous data structure.\n",
    "- Tuples are immutable."
   ]
  },
  {
   "cell_type": "code",
   "execution_count": 58,
   "id": "2a897370",
   "metadata": {},
   "outputs": [
    {
     "data": {
      "text/plain": [
       "tuple"
      ]
     },
     "execution_count": 58,
     "metadata": {},
     "output_type": "execute_result"
    }
   ],
   "source": [
    "t = () #create a tuple and parenthesis is reffered for tuple \n",
    "type(t)"
   ]
  },
  {
   "cell_type": "code",
   "execution_count": 59,
   "id": "7b4e355f",
   "metadata": {},
   "outputs": [
    {
     "data": {
      "text/plain": [
       "(10, 5.5, True, 'python')"
      ]
     },
     "execution_count": 59,
     "metadata": {},
     "output_type": "execute_result"
    }
   ],
   "source": [
    "t = (10,5.5,True,\"python\") #creating tuple\n",
    "t"
   ]
  },
  {
   "cell_type": "code",
   "execution_count": 60,
   "id": "a5addf91",
   "metadata": {},
   "outputs": [
    {
     "data": {
      "text/plain": [
       "1"
      ]
     },
     "execution_count": 60,
     "metadata": {},
     "output_type": "execute_result"
    }
   ],
   "source": [
    "t.count(10)  #it count occurance of given value"
   ]
  },
  {
   "cell_type": "code",
   "execution_count": 61,
   "id": "7987cbdb",
   "metadata": {},
   "outputs": [
    {
     "data": {
      "text/plain": [
       "3"
      ]
     },
     "execution_count": 61,
     "metadata": {},
     "output_type": "execute_result"
    }
   ],
   "source": [
    "t.index('python')  #gives index number"
   ]
  },
  {
   "cell_type": "code",
   "execution_count": 62,
   "id": "72f69ae2",
   "metadata": {},
   "outputs": [
    {
     "data": {
      "text/plain": [
       "5.5"
      ]
     },
     "execution_count": 62,
     "metadata": {},
     "output_type": "execute_result"
    }
   ],
   "source": [
    "t[1] #it gives value of given index number"
   ]
  },
  {
   "cell_type": "code",
   "execution_count": 63,
   "id": "eb3932e7",
   "metadata": {},
   "outputs": [
    {
     "data": {
      "text/plain": [
       "'python'"
      ]
     },
     "execution_count": 63,
     "metadata": {},
     "output_type": "execute_result"
    }
   ],
   "source": [
    "t[3]"
   ]
  },
  {
   "cell_type": "markdown",
   "id": "07eb8b2c",
   "metadata": {},
   "source": [
    "## Dictionary\n",
    "- Python dictionaries are ordered collection of items.\n",
    "- Dictionary is mutable data structure.\n",
    "- It has key and value pair."
   ]
  },
  {
   "cell_type": "code",
   "execution_count": 64,
   "id": "3d06181b",
   "metadata": {},
   "outputs": [
    {
     "data": {
      "text/plain": [
       "dict"
      ]
     },
     "execution_count": 64,
     "metadata": {},
     "output_type": "execute_result"
    }
   ],
   "source": [
    "dictionary = {}  #{} is reffered to dictionary data type\n",
    "type(dictionary)"
   ]
  },
  {
   "cell_type": "code",
   "execution_count": 65,
   "id": "988f7f6f",
   "metadata": {},
   "outputs": [
    {
     "data": {
      "text/plain": [
       "{'Name': 'Poonam', 'Age': 22, 'Location': 'Nashik', 'Course': 'DS+DA'}"
      ]
     },
     "execution_count": 65,
     "metadata": {},
     "output_type": "execute_result"
    }
   ],
   "source": [
    "#creating a dictionary\n",
    "dictionary = {'Name':'Poonam',\n",
    "             'Age':22,\n",
    "             'Location':'Nashik',\n",
    "             'Course': 'DS+DA'}\n",
    "dictionary"
   ]
  },
  {
   "cell_type": "code",
   "execution_count": 66,
   "id": "832383d4",
   "metadata": {},
   "outputs": [
    {
     "data": {
      "text/plain": [
       "'Poonam'"
      ]
     },
     "execution_count": 66,
     "metadata": {},
     "output_type": "execute_result"
    }
   ],
   "source": [
    "dictionary.get('Name')  #gives value of given key"
   ]
  },
  {
   "cell_type": "code",
   "execution_count": 67,
   "id": "de06ca64",
   "metadata": {},
   "outputs": [
    {
     "data": {
      "text/plain": [
       "dict_items([('Name', 'Poonam'), ('Age', 22), ('Location', 'Nashik'), ('Course', 'DS+DA')])"
      ]
     },
     "execution_count": 67,
     "metadata": {},
     "output_type": "execute_result"
    }
   ],
   "source": [
    "dictionary.items()  #it shows element of dictionary in tuple format"
   ]
  },
  {
   "cell_type": "code",
   "execution_count": 68,
   "id": "ae23fabb",
   "metadata": {},
   "outputs": [
    {
     "data": {
      "text/plain": [
       "dict_keys(['Name', 'Age', 'Location', 'Course'])"
      ]
     },
     "execution_count": 68,
     "metadata": {},
     "output_type": "execute_result"
    }
   ],
   "source": [
    "dictionary.keys()  #gives keys only"
   ]
  },
  {
   "cell_type": "code",
   "execution_count": 69,
   "id": "090860ce",
   "metadata": {},
   "outputs": [
    {
     "data": {
      "text/plain": [
       "{'Name': 'Poonam',\n",
       " 'Age': 22,\n",
       " 'Location': 'Nashik',\n",
       " 'Course': 'DS+DA',\n",
       " 'Date': 2023}"
      ]
     },
     "execution_count": 69,
     "metadata": {},
     "output_type": "execute_result"
    }
   ],
   "source": [
    "dictionary.update({'Date':2023})  #add key-value pair\n",
    "dictionary"
   ]
  },
  {
   "cell_type": "code",
   "execution_count": 70,
   "id": "df8798eb",
   "metadata": {},
   "outputs": [
    {
     "data": {
      "text/plain": [
       "{'Name': 'Poonam',\n",
       " 'Age': 22,\n",
       " 'Location': 'Nashik',\n",
       " 'Course': 'DS+DA',\n",
       " 'Date': 2023,\n",
       " 'Month': 'sept',\n",
       " 'Year': 2023}"
      ]
     },
     "execution_count": 70,
     "metadata": {},
     "output_type": "execute_result"
    }
   ],
   "source": [
    "dictionary.update({'Month':'sept','Year':2023})  #we can add multiple key-value pair\n",
    "dictionary"
   ]
  },
  {
   "cell_type": "code",
   "execution_count": 71,
   "id": "cdac3203",
   "metadata": {},
   "outputs": [
    {
     "data": {
      "text/plain": [
       "'Nashik'"
      ]
     },
     "execution_count": 71,
     "metadata": {},
     "output_type": "execute_result"
    }
   ],
   "source": [
    "dictionary.pop('Location') #delete mentioned key with value associated to that key"
   ]
  },
  {
   "cell_type": "code",
   "execution_count": 72,
   "id": "d5609a00",
   "metadata": {},
   "outputs": [
    {
     "data": {
      "text/plain": [
       "{'Name': 'Poonam',\n",
       " 'Age': 22,\n",
       " 'Course': 'DS+DA',\n",
       " 'Date': 2023,\n",
       " 'Month': 'sept',\n",
       " 'Year': 2023}"
      ]
     },
     "execution_count": 72,
     "metadata": {},
     "output_type": "execute_result"
    }
   ],
   "source": [
    "dictionary"
   ]
  },
  {
   "cell_type": "code",
   "execution_count": 73,
   "id": "e8003742",
   "metadata": {},
   "outputs": [
    {
     "data": {
      "text/plain": [
       "'Poonam'"
      ]
     },
     "execution_count": 73,
     "metadata": {},
     "output_type": "execute_result"
    }
   ],
   "source": [
    "dictionary['Name']"
   ]
  },
  {
   "cell_type": "code",
   "execution_count": 74,
   "id": "b0e28c10",
   "metadata": {},
   "outputs": [
    {
     "data": {
      "text/plain": [
       "{'Name': 'Deepa',\n",
       " 'Age': 22,\n",
       " 'Course': 'DS+DA',\n",
       " 'Date': 2023,\n",
       " 'Month': 'sept',\n",
       " 'Year': 2023}"
      ]
     },
     "execution_count": 74,
     "metadata": {},
     "output_type": "execute_result"
    }
   ],
   "source": [
    "dictionary['Name'] = 'Deepa'\n",
    "dictionary"
   ]
  },
  {
   "cell_type": "markdown",
   "id": "17749a73",
   "metadata": {},
   "source": [
    "## Sets\n",
    "- Set is a collection which is unordered,unindexed.\n",
    "- Set is immutable.\n",
    "- Sets are unordered, so you cannot be sure in which order the items will appear.\n",
    "- Sets do not allow duplicate values.\n",
    "- Once a set is created, you cannot change its items, but you can remove items and add new items.\n",
    "- As sets are unordered, they do not support indexing and slicing operations."
   ]
  },
  {
   "cell_type": "code",
   "execution_count": 75,
   "id": "2b737d7f",
   "metadata": {},
   "outputs": [
    {
     "data": {
      "text/plain": [
       "[10, 10, 10, 10, 12, 15]"
      ]
     },
     "execution_count": 75,
     "metadata": {},
     "output_type": "execute_result"
    }
   ],
   "source": [
    "lst = [10,10,10,10,12,15]\n",
    "lst"
   ]
  },
  {
   "cell_type": "code",
   "execution_count": 76,
   "id": "f508ab68",
   "metadata": {},
   "outputs": [
    {
     "data": {
      "text/plain": [
       "{10, 20, 30, 40, 50}"
      ]
     },
     "execution_count": 76,
     "metadata": {},
     "output_type": "execute_result"
    }
   ],
   "source": [
    "#Does not allow duplicate items\n",
    "s1 = {10,10,10,20,30,40,50}\n",
    "s1"
   ]
  },
  {
   "cell_type": "code",
   "execution_count": 77,
   "id": "6ca4993c",
   "metadata": {},
   "outputs": [
    {
     "ename": "TypeError",
     "evalue": "'set' object is not subscriptable",
     "output_type": "error",
     "traceback": [
      "\u001b[1;31m---------------------------------------------------------------------------\u001b[0m",
      "\u001b[1;31mTypeError\u001b[0m                                 Traceback (most recent call last)",
      "Cell \u001b[1;32mIn[77], line 2\u001b[0m\n\u001b[0;32m      1\u001b[0m \u001b[38;5;66;03m#Does not support indexing\u001b[39;00m\n\u001b[1;32m----> 2\u001b[0m s1[\u001b[38;5;241m4\u001b[39m]\n",
      "\u001b[1;31mTypeError\u001b[0m: 'set' object is not subscriptable"
     ]
    }
   ],
   "source": [
    "#Does not support indexing\n",
    "s1[4]"
   ]
  },
  {
   "cell_type": "code",
   "execution_count": 78,
   "id": "cd754933",
   "metadata": {},
   "outputs": [
    {
     "data": {
      "text/plain": [
       "{10, 20, 30, 40, 50, 60}"
      ]
     },
     "execution_count": 78,
     "metadata": {},
     "output_type": "execute_result"
    }
   ],
   "source": [
    "#Add\n",
    "s1.add(60)\n",
    "s1"
   ]
  },
  {
   "cell_type": "code",
   "execution_count": 79,
   "id": "1bcb8ec7",
   "metadata": {},
   "outputs": [
    {
     "data": {
      "text/plain": [
       "{10, 20, 30, 40, 60}"
      ]
     },
     "execution_count": 79,
     "metadata": {},
     "output_type": "execute_result"
    }
   ],
   "source": [
    "#pop\n",
    "s1.pop()\n",
    "s1"
   ]
  },
  {
   "cell_type": "markdown",
   "id": "76b1d42a",
   "metadata": {},
   "source": [
    "- we can add or delete element in set but it deleted randomly. so sets are immutable."
   ]
  },
  {
   "cell_type": "markdown",
   "id": "c3a4d57a",
   "metadata": {},
   "source": [
    "# Input function"
   ]
  },
  {
   "cell_type": "code",
   "execution_count": 80,
   "id": "51574352",
   "metadata": {},
   "outputs": [
    {
     "data": {
      "text/plain": [
       "55"
      ]
     },
     "execution_count": 80,
     "metadata": {},
     "output_type": "execute_result"
    }
   ],
   "source": [
    "age = 55\n",
    "age"
   ]
  },
  {
   "cell_type": "code",
   "execution_count": 1,
   "id": "6695c429",
   "metadata": {},
   "outputs": [
    {
     "name": "stdout",
     "output_type": "stream",
     "text": [
      "22\n"
     ]
    }
   ],
   "source": [
    "age = input()  #input function gives output in string data type"
   ]
  },
  {
   "cell_type": "code",
   "execution_count": 2,
   "id": "30f93950",
   "metadata": {},
   "outputs": [
    {
     "data": {
      "text/plain": [
       "str"
      ]
     },
     "execution_count": 2,
     "metadata": {},
     "output_type": "execute_result"
    }
   ],
   "source": [
    "type(age)"
   ]
  },
  {
   "cell_type": "code",
   "execution_count": 3,
   "id": "7648df5d",
   "metadata": {},
   "outputs": [
    {
     "name": "stdout",
     "output_type": "stream",
     "text": [
      "Enter first number: 5\n",
      "Enter second number: 3\n"
     ]
    },
    {
     "data": {
      "text/plain": [
       "'53'"
      ]
     },
     "execution_count": 3,
     "metadata": {},
     "output_type": "execute_result"
    }
   ],
   "source": [
    "num1 = input('Enter first number: ')\n",
    "num2 = input('Enter second number: ')\n",
    "num1+num2"
   ]
  },
  {
   "cell_type": "code",
   "execution_count": 4,
   "id": "9b612c73",
   "metadata": {},
   "outputs": [
    {
     "data": {
      "text/plain": [
       "'pythonLanguage'"
      ]
     },
     "execution_count": 4,
     "metadata": {},
     "output_type": "execute_result"
    }
   ],
   "source": [
    "text = 'python'\n",
    "text1 = 'Language'\n",
    "text+text1   "
   ]
  },
  {
   "cell_type": "markdown",
   "id": "c39b327a",
   "metadata": {},
   "source": [
    "- This is called as concatenation of strings"
   ]
  },
  {
   "cell_type": "code",
   "execution_count": 5,
   "id": "11c54b16",
   "metadata": {},
   "outputs": [
    {
     "data": {
      "text/plain": [
       "'python Language'"
      ]
     },
     "execution_count": 5,
     "metadata": {},
     "output_type": "execute_result"
    }
   ],
   "source": [
    "text+' '+text1  #add space by giving space in quotes. e.g.-> \" \",' '"
   ]
  },
  {
   "cell_type": "code",
   "execution_count": 6,
   "id": "54f8fe0e",
   "metadata": {},
   "outputs": [
    {
     "name": "stdout",
     "output_type": "stream",
     "text": [
      "Enter first number: 10\n",
      "Enter second number: 32\n"
     ]
    },
    {
     "data": {
      "text/plain": [
       "42"
      ]
     },
     "execution_count": 6,
     "metadata": {},
     "output_type": "execute_result"
    }
   ],
   "source": [
    "num1 = int(input('Enter first number: '))\n",
    "num2 = int(input('Enter second number: '))\n",
    "num1+num2"
   ]
  },
  {
   "cell_type": "markdown",
   "id": "6e8ef018",
   "metadata": {},
   "source": [
    "# Conditional Statement\n",
    "- if\n",
    "- else\n",
    "- elif"
   ]
  },
  {
   "cell_type": "code",
   "execution_count": 7,
   "id": "9861e81b",
   "metadata": {},
   "outputs": [
    {
     "name": "stdout",
     "output_type": "stream",
     "text": [
      "It is virat\n"
     ]
    }
   ],
   "source": [
    "player = 'Virat'\n",
    "if player == 'Virat':\n",
    "    print('It is virat')"
   ]
  },
  {
   "cell_type": "code",
   "execution_count": 8,
   "id": "c8a16ab3",
   "metadata": {},
   "outputs": [],
   "source": [
    "player = 'Rohit'\n",
    "if player == 'Virat':\n",
    "    print('It is virat')"
   ]
  },
  {
   "cell_type": "code",
   "execution_count": 9,
   "id": "e2e09c48",
   "metadata": {},
   "outputs": [
    {
     "name": "stdout",
     "output_type": "stream",
     "text": [
      "It is virat\n"
     ]
    }
   ],
   "source": [
    "player = 'Virat'\n",
    "if player == 'Virat':\n",
    "    print('It is virat')\n",
    "else:\n",
    "    print('It is not Virat')"
   ]
  },
  {
   "cell_type": "code",
   "execution_count": 10,
   "id": "d570ea5d",
   "metadata": {},
   "outputs": [
    {
     "name": "stdout",
     "output_type": "stream",
     "text": [
      "It is not Virat\n"
     ]
    }
   ],
   "source": [
    "player = 'Rohit'\n",
    "if player == 'Virat':\n",
    "    print('It is virat')\n",
    "else:\n",
    "    print('It is not Virat')"
   ]
  },
  {
   "cell_type": "code",
   "execution_count": 11,
   "id": "d4d82e4e",
   "metadata": {},
   "outputs": [
    {
     "name": "stdout",
     "output_type": "stream",
     "text": [
      "Enter the number: 5\n"
     ]
    },
    {
     "ename": "TypeError",
     "evalue": "'>=' not supported between instances of 'str' and 'int'",
     "output_type": "error",
     "traceback": [
      "\u001b[1;31m---------------------------------------------------------------------------\u001b[0m",
      "\u001b[1;31mTypeError\u001b[0m                                 Traceback (most recent call last)",
      "Cell \u001b[1;32mIn[11], line 2\u001b[0m\n\u001b[0;32m      1\u001b[0m num \u001b[38;5;241m=\u001b[39m \u001b[38;5;28minput\u001b[39m(\u001b[38;5;124m'\u001b[39m\u001b[38;5;124mEnter the number: \u001b[39m\u001b[38;5;124m'\u001b[39m)  \u001b[38;5;66;03m# by default input function converts all into string data type\u001b[39;00m\n\u001b[1;32m----> 2\u001b[0m \u001b[38;5;28;01mif\u001b[39;00m num \u001b[38;5;241m>\u001b[39m\u001b[38;5;241m=\u001b[39m \u001b[38;5;241m0\u001b[39m:\n\u001b[0;32m      3\u001b[0m     \u001b[38;5;28mprint\u001b[39m(\u001b[38;5;124m'\u001b[39m\u001b[38;5;124mPositive\u001b[39m\u001b[38;5;124m'\u001b[39m)\n",
      "\u001b[1;31mTypeError\u001b[0m: '>=' not supported between instances of 'str' and 'int'"
     ]
    }
   ],
   "source": [
    "num = input('Enter the number: ')  # by default input function converts all into string data type\n",
    "if num >= 0:\n",
    "    print('Positive')"
   ]
  },
  {
   "cell_type": "code",
   "execution_count": 12,
   "id": "b3d25ca2",
   "metadata": {},
   "outputs": [
    {
     "name": "stdout",
     "output_type": "stream",
     "text": [
      "Enter the number: 3\n",
      "Positive\n"
     ]
    }
   ],
   "source": [
    "num = int(input('Enter the number: '))  #so we use here type casting\n",
    "if num > 0:\n",
    "    print('Positive')\n"
   ]
  },
  {
   "cell_type": "code",
   "execution_count": 13,
   "id": "75457bcc",
   "metadata": {},
   "outputs": [
    {
     "name": "stdout",
     "output_type": "stream",
     "text": [
      "Enter the number: 4\n",
      "Positive\n"
     ]
    }
   ],
   "source": [
    "num = int(input('Enter the number: '))\n",
    "if num > 0:\n",
    "    print('Positive')\n",
    "else:\n",
    "    print('Negative')"
   ]
  },
  {
   "cell_type": "code",
   "execution_count": 14,
   "id": "48fc87a2",
   "metadata": {},
   "outputs": [
    {
     "name": "stdout",
     "output_type": "stream",
     "text": [
      "Enter the number: -2\n",
      "Negative\n"
     ]
    }
   ],
   "source": [
    "num = int(input('Enter the number: '))\n",
    "if num > 0:\n",
    "    print('Positive')\n",
    "else:\n",
    "    print('Negative')"
   ]
  },
  {
   "cell_type": "code",
   "execution_count": 15,
   "id": "f5e815ab",
   "metadata": {},
   "outputs": [
    {
     "name": "stdout",
     "output_type": "stream",
     "text": [
      "Enter the number: 9\n",
      "Positive\n"
     ]
    }
   ],
   "source": [
    "#check whether number is positive/negative/zero\n",
    "num = int(input('Enter the number: '))\n",
    "if num > 0:\n",
    "    print('Positive')\n",
    "elif num == 0:\n",
    "    print('Zero')\n",
    "else:\n",
    "    print('Negative')"
   ]
  },
  {
   "cell_type": "code",
   "execution_count": 16,
   "id": "295ade5e",
   "metadata": {},
   "outputs": [
    {
     "name": "stdout",
     "output_type": "stream",
     "text": [
      "Enter the number: 0\n",
      "Zero\n"
     ]
    }
   ],
   "source": [
    "num = int(input('Enter the number: '))\n",
    "if num > 0:\n",
    "    print('Positive')\n",
    "elif num == 0:\n",
    "    print('Zero')\n",
    "else:\n",
    "    print('Negative')"
   ]
  },
  {
   "cell_type": "code",
   "execution_count": 17,
   "id": "63ad8beb",
   "metadata": {},
   "outputs": [
    {
     "name": "stdout",
     "output_type": "stream",
     "text": [
      "Enter the number: -6\n",
      "Negative\n"
     ]
    }
   ],
   "source": [
    "num = int(input('Enter the number: '))\n",
    "if num > 0:\n",
    "    print('Positive')\n",
    "elif num == 0:\n",
    "    print('Zero')\n",
    "else:\n",
    "    print('Negative')"
   ]
  },
  {
   "cell_type": "code",
   "execution_count": 18,
   "id": "4c5108fd",
   "metadata": {},
   "outputs": [
    {
     "name": "stdout",
     "output_type": "stream",
     "text": [
      "Enter the marks: 90\n",
      "A grade\n"
     ]
    }
   ],
   "source": [
    "#Give the grade to students basis on their marks\n",
    "#A : marks >= 85\n",
    "#B : marks < 85 and marks >= 70\n",
    "#C : marks < 70 and marks >= 60\n",
    "# D : less than 60\n",
    "marks = int(input('Enter the marks: '))\n",
    "if marks >= 85:\n",
    "    print('A grade')\n",
    "elif (marks < 85) and (marks >= 70):\n",
    "    print('B grade')\n",
    "elif (marks < 70) and (marks >= 60):\n",
    "    print('C grade')\n",
    "else:\n",
    "    print('D grade')"
   ]
  },
  {
   "cell_type": "code",
   "execution_count": 19,
   "id": "e2ea44c5",
   "metadata": {},
   "outputs": [
    {
     "name": "stdout",
     "output_type": "stream",
     "text": [
      "Enter the marks: 85\n",
      "A grade\n"
     ]
    }
   ],
   "source": [
    "marks = int(input('Enter the marks: '))\n",
    "if marks >= 85:\n",
    "    print('A grade')\n",
    "elif (marks < 85) and (marks >= 70):\n",
    "    print('B grade')\n",
    "elif (marks < 70) and (marks >= 60):\n",
    "    print('C grade')\n",
    "else:\n",
    "    print('D grade')"
   ]
  },
  {
   "cell_type": "code",
   "execution_count": 20,
   "id": "1c566143",
   "metadata": {},
   "outputs": [
    {
     "name": "stdout",
     "output_type": "stream",
     "text": [
      "Enter the marks: 65\n",
      "C grade\n"
     ]
    }
   ],
   "source": [
    "marks = int(input('Enter the marks: '))\n",
    "if marks >= 85:\n",
    "    print('A grade')\n",
    "elif (marks < 85) and (marks >= 70):\n",
    "    print('B grade')\n",
    "elif (marks < 70) and (marks >= 60):\n",
    "    print('C grade')\n",
    "else:\n",
    "    print('D grade')"
   ]
  },
  {
   "cell_type": "code",
   "execution_count": 21,
   "id": "9c3a631e",
   "metadata": {},
   "outputs": [
    {
     "name": "stdout",
     "output_type": "stream",
     "text": [
      "Enter the marks: 35\n",
      "D grade\n"
     ]
    }
   ],
   "source": [
    "marks = int(input('Enter the marks: '))\n",
    "if marks >= 85:\n",
    "    print('A grade')\n",
    "elif (marks < 85) and (marks >= 70):\n",
    "    print('B grade')\n",
    "elif (marks < 70) and (marks >= 60):\n",
    "    print('C grade')\n",
    "else:\n",
    "    print('D grade')"
   ]
  },
  {
   "cell_type": "code",
   "execution_count": 22,
   "id": "b62562a7",
   "metadata": {},
   "outputs": [
    {
     "name": "stdout",
     "output_type": "stream",
     "text": [
      "Enter the number:9\n",
      "One digit number\n"
     ]
    }
   ],
   "source": [
    "#Check whether the number is one/two/three digit\n",
    "num = int(input('Enter the number:'))\n",
    "if (num>0) and (num<=9):\n",
    "    print('One digit number')\n",
    "elif (num>9) and (num<=99):\n",
    "    print('Two digit number')\n",
    "elif (num>99) and (num<=999):\n",
    "    print('Three digit number')\n",
    "else:\n",
    "    print('Gives a correct number')"
   ]
  },
  {
   "cell_type": "code",
   "execution_count": 23,
   "id": "1e6402ae",
   "metadata": {},
   "outputs": [
    {
     "name": "stdout",
     "output_type": "stream",
     "text": [
      "Enter the number:123\n",
      "Number is not 99\n"
     ]
    }
   ],
   "source": [
    "#Check whether given number is 99 or not.\n",
    "num = int(input('Enter the number:'))\n",
    "if num==99:\n",
    "    print('It is 99')\n",
    "else:\n",
    "    print('Number is not 99')"
   ]
  },
  {
   "cell_type": "code",
   "execution_count": 24,
   "id": "50281691",
   "metadata": {},
   "outputs": [
    {
     "name": "stdout",
     "output_type": "stream",
     "text": [
      "Enter the runs: 85\n",
      "Not completed century. You needs to complete 15 runs\n"
     ]
    }
   ],
   "source": [
    "runs = int(input('Enter the runs: '))\n",
    "if runs >= 100:\n",
    "    print('Century')\n",
    "else:\n",
    "    print('Not completed century. You needs to complete',100-runs,'runs')  #this is not good code. so we can use format string"
   ]
  },
  {
   "cell_type": "code",
   "execution_count": 26,
   "id": "41d9f839",
   "metadata": {},
   "outputs": [
    {
     "name": "stdout",
     "output_type": "stream",
     "text": [
      "Enter the runs: 90\n",
      "Century is not completed. You needs to complete 10 runs\n"
     ]
    }
   ],
   "source": [
    "# format string -> print(f\" ---{variable}----\")\n",
    "runs = int(input('Enter the runs: '))\n",
    "if runs >= 100:\n",
    "    print('Century')\n",
    "else:\n",
    "    print(f'Century is not completed. You needs to complete {100-runs} runs')"
   ]
  },
  {
   "cell_type": "code",
   "execution_count": null,
   "id": "fdebafb0",
   "metadata": {},
   "outputs": [],
   "source": []
  }
 ],
 "metadata": {
  "kernelspec": {
   "display_name": "Python 3 (ipykernel)",
   "language": "python",
   "name": "python3"
  },
  "language_info": {
   "codemirror_mode": {
    "name": "ipython",
    "version": 3
   },
   "file_extension": ".py",
   "mimetype": "text/x-python",
   "name": "python",
   "nbconvert_exporter": "python",
   "pygments_lexer": "ipython3",
   "version": "3.11.5"
  }
 },
 "nbformat": 4,
 "nbformat_minor": 5
}
