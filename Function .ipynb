{
 "cells": [
  {
   "cell_type": "markdown",
   "id": "ddb62c29",
   "metadata": {},
   "source": [
    "# Functions\n",
    "- "
   ]
  },
  {
   "cell_type": "code",
   "execution_count": 1,
   "id": "ff917adf",
   "metadata": {},
   "outputs": [],
   "source": [
    "def simple_function():\n",
    "    print('This is user defined function')"
   ]
  },
  {
   "cell_type": "code",
   "execution_count": 2,
   "id": "b2d1c383",
   "metadata": {},
   "outputs": [
    {
     "name": "stdout",
     "output_type": "stream",
     "text": [
      "This is user defined function\n"
     ]
    }
   ],
   "source": [
    "simple_function()"
   ]
  },
  {
   "cell_type": "code",
   "execution_count": 3,
   "id": "e11cfcb3",
   "metadata": {},
   "outputs": [
    {
     "name": "stdout",
     "output_type": "stream",
     "text": [
      "This is 1st sentence\n",
      "This is 2nd sentence\n"
     ]
    }
   ],
   "source": [
    "def function1():\n",
    "    '''This function will print 2 sentences'''\n",
    "    print('This is 1st sentence')\n",
    "    print('This is 2nd sentence')\n",
    "function1()"
   ]
  },
  {
   "cell_type": "code",
   "execution_count": 4,
   "id": "721be477",
   "metadata": {},
   "outputs": [
    {
     "data": {
      "text/plain": [
       "12"
      ]
     },
     "execution_count": 4,
     "metadata": {},
     "output_type": "execute_result"
    }
   ],
   "source": [
    "def max_number(num1,num2):\n",
    "    '''This function returns maximum number between given numbers'''\n",
    "    return max(num1,num2)\n",
    "max_number(10,12)"
   ]
  },
  {
   "cell_type": "code",
   "execution_count": 5,
   "id": "ae60c289",
   "metadata": {},
   "outputs": [
    {
     "data": {
      "text/plain": [
       "125"
      ]
     },
     "execution_count": 5,
     "metadata": {},
     "output_type": "execute_result"
    }
   ],
   "source": [
    "def max_number(num1,num2):\n",
    "    '''This function returns maximum number between given numbers'''\n",
    "    if num1 > num2:\n",
    "        return num1\n",
    "    else: \n",
    "        return num2\n",
    "max_number(125,12)"
   ]
  },
  {
   "cell_type": "markdown",
   "id": "b5bd462c",
   "metadata": {},
   "source": [
    "# Loops : \n",
    "- Loop means Repetition\n",
    "1. While : infinite loop\n",
    "2. For : finite loop\n",
    "\n",
    "**Most of the time for loop is used**"
   ]
  },
  {
   "cell_type": "markdown",
   "id": "a8112764",
   "metadata": {},
   "source": [
    "## While loop"
   ]
  },
  {
   "cell_type": "code",
   "execution_count": 6,
   "id": "578c0db3",
   "metadata": {},
   "outputs": [
    {
     "name": "stdout",
     "output_type": "stream",
     "text": [
      "Learning python 10\n",
      "Learning python 9\n",
      "Learning python 8\n",
      "Learning python 7\n",
      "Learning python 6\n",
      "Learning python 5\n",
      "Learning python 4\n",
      "Learning python 3\n",
      "Learning python 2\n",
      "Learning python 1\n",
      "Python completed\n"
     ]
    }
   ],
   "source": [
    "python = 10\n",
    "while python > 0 :\n",
    "    print('Learning python',python)\n",
    "    python = python-1\n",
    "print('Python completed')"
   ]
  },
  {
   "cell_type": "code",
   "execution_count": 7,
   "id": "55c6d455",
   "metadata": {},
   "outputs": [
    {
     "name": "stdout",
     "output_type": "stream",
     "text": [
      "You are not eligible 0\n",
      "You are not eligible 1\n",
      "You are not eligible 2\n",
      "You are not eligible 3\n",
      "You are not eligible 4\n",
      "You are not eligible 5\n",
      "You are not eligible 6\n",
      "You are not eligible 7\n",
      "You are not eligible 8\n",
      "You are not eligible 9\n",
      "You are not eligible 10\n",
      "You are not eligible 11\n",
      "You are not eligible 12\n",
      "You are not eligible 13\n",
      "You are not eligible 14\n",
      "You are not eligible 15\n",
      "You are not eligible 16\n",
      "You are not eligible 17\n",
      "You are eligible\n"
     ]
    }
   ],
   "source": [
    "age = 0\n",
    "while age < 18:\n",
    "    print('You are not eligible',age)\n",
    "    age = age+1\n",
    "print('You are eligible')"
   ]
  },
  {
   "cell_type": "markdown",
   "id": "d9555b8c",
   "metadata": {},
   "source": [
    "# Range function"
   ]
  },
  {
   "cell_type": "code",
   "execution_count": 8,
   "id": "f1e41fec",
   "metadata": {},
   "outputs": [
    {
     "data": {
      "text/plain": [
       "range(1, 10)"
      ]
     },
     "execution_count": 8,
     "metadata": {},
     "output_type": "execute_result"
    }
   ],
   "source": [
    "range(1,10) #range function doesn't work separately ,it can combine with any another function"
   ]
  },
  {
   "cell_type": "code",
   "execution_count": 9,
   "id": "00c0a90e",
   "metadata": {},
   "outputs": [
    {
     "data": {
      "text/plain": [
       "[1, 2, 3, 4, 5, 6, 7, 8, 9]"
      ]
     },
     "execution_count": 9,
     "metadata": {},
     "output_type": "execute_result"
    }
   ],
   "source": [
    "list(range(1,10)) #make list of given range"
   ]
  },
  {
   "cell_type": "code",
   "execution_count": 10,
   "id": "5549be25",
   "metadata": {},
   "outputs": [
    {
     "data": {
      "text/plain": [
       "[1, 2, 3, 4, 5, 6, 7, 8, 9, 10]"
      ]
     },
     "execution_count": 10,
     "metadata": {},
     "output_type": "execute_result"
    }
   ],
   "source": [
    "list(range(1,11)) #we required 3 argument in range function starting point, ending point and stepsize\n",
    "#start is inclusive and end is exclusive"
   ]
  },
  {
   "cell_type": "code",
   "execution_count": 11,
   "id": "9ce35d6d",
   "metadata": {},
   "outputs": [
    {
     "data": {
      "text/plain": [
       "[1, 3, 5, 7, 9]"
      ]
     },
     "execution_count": 11,
     "metadata": {},
     "output_type": "execute_result"
    }
   ],
   "source": [
    "list(range(1,11,2)) #2 is stepsize"
   ]
  },
  {
   "cell_type": "code",
   "execution_count": 12,
   "id": "b20808a7",
   "metadata": {},
   "outputs": [
    {
     "data": {
      "text/plain": [
       "[0, 2, 4, 6, 8, 10]"
      ]
     },
     "execution_count": 12,
     "metadata": {},
     "output_type": "execute_result"
    }
   ],
   "source": [
    "list(range(0,11,2))"
   ]
  },
  {
   "cell_type": "code",
   "execution_count": 13,
   "id": "bea5ab5a",
   "metadata": {},
   "outputs": [
    {
     "data": {
      "text/plain": [
       "[10, 9, 8, 7, 6, 5, 4, 3, 2, 1]"
      ]
     },
     "execution_count": 13,
     "metadata": {},
     "output_type": "execute_result"
    }
   ],
   "source": [
    "list(range(10,0,-1))  #reversed range "
   ]
  },
  {
   "cell_type": "markdown",
   "id": "2d1d2f94",
   "metadata": {},
   "source": [
    "## For loop"
   ]
  },
  {
   "cell_type": "code",
   "execution_count": 14,
   "id": "17b437ac",
   "metadata": {},
   "outputs": [
    {
     "name": "stdout",
     "output_type": "stream",
     "text": [
      "1\n",
      "2\n",
      "3\n",
      "4\n",
      "5\n",
      "6\n",
      "7\n",
      "8\n",
      "9\n",
      "10\n"
     ]
    }
   ],
   "source": [
    "for i in range(1,11):\n",
    "    print(i)"
   ]
  },
  {
   "cell_type": "code",
   "execution_count": 15,
   "id": "e6358127",
   "metadata": {},
   "outputs": [
    {
     "name": "stdout",
     "output_type": "stream",
     "text": [
      "1\n",
      "4\n",
      "9\n",
      "16\n",
      "25\n",
      "36\n",
      "49\n",
      "64\n",
      "81\n",
      "100\n"
     ]
    }
   ],
   "source": [
    "for i in range(1,11):\n",
    "    i= i**2\n",
    "    print(i)"
   ]
  },
  {
   "cell_type": "code",
   "execution_count": 16,
   "id": "520e1347",
   "metadata": {},
   "outputs": [
    {
     "data": {
      "text/plain": [
       "[1, 2, 3, 4, 5, 6, 7, 8, 9, 10]"
      ]
     },
     "execution_count": 16,
     "metadata": {},
     "output_type": "execute_result"
    }
   ],
   "source": [
    "lst = []\n",
    "for i in range(1,11):\n",
    "    lst.append(i)\n",
    "lst"
   ]
  },
  {
   "cell_type": "code",
   "execution_count": 17,
   "id": "3ebfef63",
   "metadata": {},
   "outputs": [
    {
     "name": "stdout",
     "output_type": "stream",
     "text": [
      "www.flipkart.com\n",
      "www.amazon.com\n",
      "www.excelr.com\n"
     ]
    }
   ],
   "source": [
    "company = ['flipkart','amazon','excelr']\n",
    "for i in company:\n",
    "    i = 'www.'+i+'.com'\n",
    "    print(i)"
   ]
  },
  {
   "cell_type": "markdown",
   "id": "d20b4b7e",
   "metadata": {},
   "source": [
    "## List Compreshesion\n",
    "- Easiest way of creating list data structure along with any loop or conditional statement"
   ]
  },
  {
   "cell_type": "code",
   "execution_count": 18,
   "id": "21cc28cf",
   "metadata": {},
   "outputs": [
    {
     "data": {
      "text/plain": [
       "[11,\n",
       " 12,\n",
       " 13,\n",
       " 14,\n",
       " 15,\n",
       " 16,\n",
       " 17,\n",
       " 18,\n",
       " 19,\n",
       " 20,\n",
       " 21,\n",
       " 22,\n",
       " 23,\n",
       " 24,\n",
       " 25,\n",
       " 26,\n",
       " 27,\n",
       " 28,\n",
       " 29,\n",
       " 30]"
      ]
     },
     "execution_count": 18,
     "metadata": {},
     "output_type": "execute_result"
    }
   ],
   "source": [
    "lst = []\n",
    "for i in range(1,21):\n",
    "    lst.append(i+10)\n",
    "lst\n",
    "#over writing this program we can use next program "
   ]
  },
  {
   "cell_type": "code",
   "execution_count": 19,
   "id": "a79e3cc0",
   "metadata": {},
   "outputs": [
    {
     "data": {
      "text/plain": [
       "[11,\n",
       " 12,\n",
       " 13,\n",
       " 14,\n",
       " 15,\n",
       " 16,\n",
       " 17,\n",
       " 18,\n",
       " 19,\n",
       " 20,\n",
       " 21,\n",
       " 22,\n",
       " 23,\n",
       " 24,\n",
       " 25,\n",
       " 26,\n",
       " 27,\n",
       " 28,\n",
       " 29,\n",
       " 30]"
      ]
     },
     "execution_count": 19,
     "metadata": {},
     "output_type": "execute_result"
    }
   ],
   "source": [
    "[i+10 for i in range(1,21)]"
   ]
  },
  {
   "cell_type": "code",
   "execution_count": 20,
   "id": "382a5569",
   "metadata": {},
   "outputs": [
    {
     "name": "stdout",
     "output_type": "stream",
     "text": [
      "Aisha\n",
      "Ameya\n",
      "Arya\n",
      "Aman\n"
     ]
    }
   ],
   "source": [
    "lst = ['Aisha','Ameya','Nikita','Arya','Aman']\n",
    "for i in lst:\n",
    "    if i.startswith('A'):\n",
    "        print(i)"
   ]
  },
  {
   "cell_type": "code",
   "execution_count": 21,
   "id": "e58d8cd4",
   "metadata": {},
   "outputs": [
    {
     "name": "stdout",
     "output_type": "stream",
     "text": [
      "7\n",
      "9\n",
      "10\n",
      "8\n"
     ]
    }
   ],
   "source": [
    "lst = [2,4,5,3]\n",
    "for i in lst:\n",
    "    i = i+5\n",
    "    print(i)"
   ]
  },
  {
   "cell_type": "code",
   "execution_count": 22,
   "id": "bda3199a",
   "metadata": {},
   "outputs": [
    {
     "name": "stdout",
     "output_type": "stream",
     "text": [
      "87\n",
      "91\n",
      "77\n"
     ]
    }
   ],
   "source": [
    "lst = [60,35,87,91,77]\n",
    "for i in lst:\n",
    "    if i>75:\n",
    "        print(i)"
   ]
  },
  {
   "cell_type": "code",
   "execution_count": 23,
   "id": "d4e6cfd6",
   "metadata": {},
   "outputs": [
    {
     "name": "stdout",
     "output_type": "stream",
     "text": [
      "Enter the number: 5\n",
      "5\n",
      "10\n",
      "15\n",
      "20\n",
      "25\n",
      "30\n",
      "35\n",
      "40\n",
      "45\n",
      "50\n"
     ]
    }
   ],
   "source": [
    "num = int(input('Enter the number: '))\n",
    "for i in range(1,11):\n",
    "    print(num*i)"
   ]
  },
  {
   "cell_type": "code",
   "execution_count": 24,
   "id": "2527e2a8",
   "metadata": {},
   "outputs": [
    {
     "name": "stdout",
     "output_type": "stream",
     "text": [
      "Enter the number: 5\n",
      "50\n",
      "45\n",
      "40\n",
      "35\n",
      "30\n",
      "25\n",
      "20\n",
      "15\n",
      "10\n",
      "5\n"
     ]
    }
   ],
   "source": [
    "num = int(input('Enter the number: '))\n",
    "for i in range(10,0,-1):\n",
    "    print(num*i)"
   ]
  },
  {
   "cell_type": "code",
   "execution_count": 25,
   "id": "a17ca36a",
   "metadata": {},
   "outputs": [
    {
     "name": "stdout",
     "output_type": "stream",
     "text": [
      "Enter the number: 5\n",
      "5 * 10 = 50\n",
      "5 * 9 = 45\n",
      "5 * 8 = 40\n",
      "5 * 7 = 35\n",
      "5 * 6 = 30\n",
      "5 * 5 = 25\n",
      "5 * 4 = 20\n",
      "5 * 3 = 15\n",
      "5 * 2 = 10\n",
      "5 * 1 = 5\n"
     ]
    }
   ],
   "source": [
    "num = int(input('Enter the number: '))\n",
    "for i in range(10,0,-1):\n",
    "    print(f'{num} * {i} = {num*i}')"
   ]
  },
  {
   "cell_type": "code",
   "execution_count": 26,
   "id": "c38fb8c0",
   "metadata": {},
   "outputs": [
    {
     "name": "stdout",
     "output_type": "stream",
     "text": [
      "Enter number: 5\n",
      "5\n",
      "10\n",
      "15\n",
      "20\n",
      "25\n",
      "30\n",
      "35\n",
      "40\n",
      "45\n",
      "50\n"
     ]
    }
   ],
   "source": [
    "num = int(input('Enter number: '))\n",
    "for i in range(1,11):\n",
    "    n = num*i\n",
    "    print(n)"
   ]
  },
  {
   "cell_type": "code",
   "execution_count": null,
   "id": "cd443784",
   "metadata": {},
   "outputs": [],
   "source": []
  }
 ],
 "metadata": {
  "kernelspec": {
   "display_name": "Python 3 (ipykernel)",
   "language": "python",
   "name": "python3"
  },
  "language_info": {
   "codemirror_mode": {
    "name": "ipython",
    "version": 3
   },
   "file_extension": ".py",
   "mimetype": "text/x-python",
   "name": "python",
   "nbconvert_exporter": "python",
   "pygments_lexer": "ipython3",
   "version": "3.11.5"
  }
 },
 "nbformat": 4,
 "nbformat_minor": 5
}
