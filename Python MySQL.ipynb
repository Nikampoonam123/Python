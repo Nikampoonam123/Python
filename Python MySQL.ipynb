{
 "cells": [
  {
   "cell_type": "code",
   "execution_count": 1,
   "id": "b31d201d",
   "metadata": {},
   "outputs": [],
   "source": [
    " # pip install mysql-connector-python"
   ]
  },
  {
   "cell_type": "code",
   "execution_count": 2,
   "id": "de0291c7",
   "metadata": {},
   "outputs": [],
   "source": [
    "import mysql.connector"
   ]
  },
  {
   "cell_type": "code",
   "execution_count": 3,
   "id": "43b3d0a6",
   "metadata": {},
   "outputs": [
    {
     "name": "stdout",
     "output_type": "stream",
     "text": [
      "<mysql.connector.connection.MySQLConnection object at 0x000000044EF462D0>\n"
     ]
    }
   ],
   "source": [
    "mydb = mysql.connector.connect(host=\"localhost\",user=\"root\",password=\"poonam123\",database='classicmodels',use_pure=True)\n",
    "\n",
    "print(mydb)"
   ]
  },
  {
   "cell_type": "code",
   "execution_count": 4,
   "id": "fc386980",
   "metadata": {},
   "outputs": [
    {
     "ename": "NameError",
     "evalue": "name 'mycursor' is not defined",
     "output_type": "error",
     "traceback": [
      "\u001b[1;31m---------------------------------------------------------------------------\u001b[0m",
      "\u001b[1;31mNameError\u001b[0m                                 Traceback (most recent call last)",
      "Cell \u001b[1;32mIn[4], line 1\u001b[0m\n\u001b[1;32m----> 1\u001b[0m mycursor\u001b[38;5;241m.\u001b[39mexecute(\u001b[38;5;124m\"\u001b[39m\u001b[38;5;124mDROP DATABASE my_db\u001b[39m\u001b[38;5;124m\"\u001b[39m)\n",
      "\u001b[1;31mNameError\u001b[0m: name 'mycursor' is not defined"
     ]
    }
   ],
   "source": [
    "mycursor.execute(\"DROP DATABASE my_db\")"
   ]
  },
  {
   "cell_type": "code",
   "execution_count": 5,
   "id": "41af965e",
   "metadata": {},
   "outputs": [],
   "source": [
    "# Create Database\n",
    "\n",
    "mydb = mysql.connector.connect(\n",
    "  host=\"localhost\",\n",
    "  user=\"root\",\n",
    "  password=\"poonam123\"\n",
    ")\n",
    "\n",
    "mycursor = mydb.cursor()\n",
    "\n",
    "mycursor.execute(\"CREATE DATABASE MYDB\")"
   ]
  },
  {
   "cell_type": "code",
   "execution_count": 6,
   "id": "05c3cf42",
   "metadata": {},
   "outputs": [
    {
     "name": "stdout",
     "output_type": "stream",
     "text": [
      "('classicmodels',)\n",
      "('hello',)\n",
      "('india',)\n",
      "('information_schema',)\n",
      "('my_db',)\n",
      "('mydata',)\n",
      "('mydatabase',)\n",
      "('mydb',)\n",
      "('mysql',)\n",
      "('performance_schema',)\n",
      "('practice',)\n",
      "('practice1',)\n",
      "('procedures',)\n",
      "('sys',)\n",
      "('team',)\n"
     ]
    }
   ],
   "source": [
    "mycursor.execute(\"SHOW DATABASES\")\n",
    "\n",
    "for x in mycursor:\n",
    "    print(x)"
   ]
  },
  {
   "cell_type": "code",
   "execution_count": 7,
   "id": "1d8a9149",
   "metadata": {},
   "outputs": [
    {
     "data": {
      "text/plain": [
       "<mysql.connector.connection.MySQLConnection at 0x45008c050>"
      ]
     },
     "execution_count": 7,
     "metadata": {},
     "output_type": "execute_result"
    }
   ],
   "source": [
    "mydb = mysql.connector.connect(\n",
    "  host=\"localhost\",\n",
    "  user=\"root\",\n",
    "  password=\"poonam123\",\n",
    "  database=\"MYDB\",\n",
    "use_pure=True)\n",
    "mydb"
   ]
  },
  {
   "cell_type": "markdown",
   "id": "8f8829b2",
   "metadata": {},
   "source": [
    "### Creating a Table\n",
    "To create a table in MySQL, use the \"CREATE TABLE\" statement."
   ]
  },
  {
   "cell_type": "code",
   "execution_count": 8,
   "id": "ef274da2",
   "metadata": {},
   "outputs": [],
   "source": [
    "mycursor = mydb.cursor()\n",
    "\n",
    "mycursor.execute(\"CREATE TABLE customers (name VARCHAR(255), address VARCHAR(255))\")"
   ]
  },
  {
   "cell_type": "markdown",
   "id": "6af019a0",
   "metadata": {},
   "source": [
    "### Check if Table Exists\n",
    "check if a table exist by listing all tables in database with the \"SHOW TABLES\" statement"
   ]
  },
  {
   "cell_type": "code",
   "execution_count": 9,
   "id": "2581866b",
   "metadata": {},
   "outputs": [
    {
     "name": "stdout",
     "output_type": "stream",
     "text": [
      "('customers',)\n"
     ]
    }
   ],
   "source": [
    "mycursor.execute(\"SHOW TABLES\")\n",
    "\n",
    "for x in mycursor:\n",
    "    print(x)"
   ]
  },
  {
   "cell_type": "markdown",
   "id": "ac374a7e",
   "metadata": {},
   "source": [
    "### Primary Key\n",
    "When creating a table, create a column with a unique key for each record.\n",
    "\n",
    "This can be done by defining a PRIMARY KEY.\n",
    "\n",
    "We use the statement \"INT AUTO_INCREMENT PRIMARY KEY\" which will insert a unique number for each record. Starting at 1, and increased by one for each record."
   ]
  },
  {
   "cell_type": "code",
   "execution_count": 10,
   "id": "c6b16284",
   "metadata": {},
   "outputs": [],
   "source": [
    "# mycursor.execute(\"CREATE TABLE customers (id INT AUTO_INCREMENT PRIMARY KEY, name VARCHAR(255), address VARCHAR(255))\")\n",
    "# Table already exists"
   ]
  },
  {
   "cell_type": "code",
   "execution_count": 11,
   "id": "1716568c",
   "metadata": {},
   "outputs": [],
   "source": [
    "#Create primary key on an existing table\n",
    "mycursor.execute(\"ALTER TABLE customers ADD COLUMN id INT AUTO_INCREMENT PRIMARY KEY\")"
   ]
  },
  {
   "cell_type": "markdown",
   "id": "6b9c271c",
   "metadata": {},
   "source": [
    "###  Insert Into Table\n",
    "To fill a table in MySQL, use the \"INSERT INTO\" statement."
   ]
  },
  {
   "cell_type": "code",
   "execution_count": 12,
   "id": "ea06b0e3",
   "metadata": {},
   "outputs": [
    {
     "name": "stdout",
     "output_type": "stream",
     "text": [
      "1 record inserted.\n"
     ]
    }
   ],
   "source": [
    "#Insert a record in the \"customers\" table\n",
    "\n",
    "sql = \"INSERT INTO customers (name, address) VALUES (%s, %s)\"\n",
    "val = (\"John\", \"Highway 21\")\n",
    "mycursor.execute(sql, val)\n",
    "\n",
    "mydb.commit()\n",
    "\n",
    "print(mycursor.rowcount, \"record inserted.\")"
   ]
  },
  {
   "cell_type": "markdown",
   "id": "96ab28c8",
   "metadata": {},
   "source": [
    "**mydb.commit() -> It is required to make the changes, otherwise no changes are made to the table.**"
   ]
  },
  {
   "cell_type": "markdown",
   "id": "d41c18a2",
   "metadata": {},
   "source": [
    "### Insert Multiple Rows\n",
    "To insert multiple rows into a table, use the executemany() method.\n",
    "\n",
    "The second parameter of the executemany() method is a list of tuples, containing the data you want to insert"
   ]
  },
  {
   "cell_type": "code",
   "execution_count": 13,
   "id": "51bfcee0",
   "metadata": {},
   "outputs": [
    {
     "name": "stdout",
     "output_type": "stream",
     "text": [
      "13 was inserted.\n"
     ]
    }
   ],
   "source": [
    "sql = \"INSERT INTO customers (name, address) VALUES (%s, %s)\"\n",
    "val = [\n",
    "  ('Peter', 'Lowstreet 4'),\n",
    "  ('Amy', 'Apple st 652'),\n",
    "  ('Hannah', 'Mountain 21'),\n",
    "  ('Michael', 'Valley 345'),\n",
    "  ('Sandy', 'Ocean blvd 2'),\n",
    "  ('Betty', 'Green Grass 1'),\n",
    "  ('Richard', 'Sky st 331'),\n",
    "  ('Susan', 'One way 98'),\n",
    "  ('Vicky', 'Yellow Garden 2'),\n",
    "  ('Ben', 'Park Lane 38'),\n",
    "  ('William', 'Central st 954'),\n",
    "  ('Chuck', 'Main Road 989'),\n",
    "  ('Viola', 'Sideway 1633')\n",
    "]\n",
    "\n",
    "mycursor.executemany(sql, val)\n",
    "\n",
    "mydb.commit()\n",
    "\n",
    "print(mycursor.rowcount, \"was inserted.\")"
   ]
  },
  {
   "cell_type": "code",
   "execution_count": 14,
   "id": "c43782fe",
   "metadata": {},
   "outputs": [
    {
     "name": "stdout",
     "output_type": "stream",
     "text": [
      "1 record inserted, ID: 15\n"
     ]
    }
   ],
   "source": [
    "# Insert one row, and return the ID\n",
    "sql = \"INSERT INTO customers (name, address) VALUES (%s, %s)\"\n",
    "val = (\"Michelle\", \"Blue Village\")\n",
    "mycursor.execute(sql, val)\n",
    "\n",
    "mydb.commit()\n",
    "\n",
    "print(\"1 record inserted, ID:\", mycursor.lastrowid)\n",
    "\n",
    "#If we insert more than one row, the id of the last inserted row is returned"
   ]
  },
  {
   "cell_type": "markdown",
   "id": "bdeba7bf",
   "metadata": {},
   "source": [
    "### Select From a Table\n",
    "To select from a table in MySQL, use the \"SELECT\" statement"
   ]
  },
  {
   "cell_type": "code",
   "execution_count": 15,
   "id": "4b42b336",
   "metadata": {},
   "outputs": [
    {
     "name": "stdout",
     "output_type": "stream",
     "text": [
      "('John', 'Highway 21', 1)\n",
      "('Peter', 'Lowstreet 4', 2)\n",
      "('Amy', 'Apple st 652', 3)\n",
      "('Hannah', 'Mountain 21', 4)\n",
      "('Michael', 'Valley 345', 5)\n",
      "('Sandy', 'Ocean blvd 2', 6)\n",
      "('Betty', 'Green Grass 1', 7)\n",
      "('Richard', 'Sky st 331', 8)\n",
      "('Susan', 'One way 98', 9)\n",
      "('Vicky', 'Yellow Garden 2', 10)\n",
      "('Ben', 'Park Lane 38', 11)\n",
      "('William', 'Central st 954', 12)\n",
      "('Chuck', 'Main Road 989', 13)\n",
      "('Viola', 'Sideway 1633', 14)\n",
      "('Michelle', 'Blue Village', 15)\n"
     ]
    }
   ],
   "source": [
    "# Select all records from the \"customers\" table, and display the result\n",
    "\n",
    "mycursor.execute(\"SELECT * FROM customers\")\n",
    "\n",
    "myresult = mycursor.fetchall() # fetchall() method fetches all rows from the last executed statement\n",
    "\n",
    "for x in myresult:\n",
    "    print(x)"
   ]
  },
  {
   "cell_type": "markdown",
   "id": "d767ff4c",
   "metadata": {},
   "source": [
    "### Selecting Columns\n",
    "To select only some of the columns in a table, use the \"SELECT\" statement followed by the column name(s)"
   ]
  },
  {
   "cell_type": "code",
   "execution_count": 16,
   "id": "de20b382",
   "metadata": {},
   "outputs": [
    {
     "name": "stdout",
     "output_type": "stream",
     "text": [
      "('John', 'Highway 21')\n",
      "('Peter', 'Lowstreet 4')\n",
      "('Amy', 'Apple st 652')\n",
      "('Hannah', 'Mountain 21')\n",
      "('Michael', 'Valley 345')\n",
      "('Sandy', 'Ocean blvd 2')\n",
      "('Betty', 'Green Grass 1')\n",
      "('Richard', 'Sky st 331')\n",
      "('Susan', 'One way 98')\n",
      "('Vicky', 'Yellow Garden 2')\n",
      "('Ben', 'Park Lane 38')\n",
      "('William', 'Central st 954')\n",
      "('Chuck', 'Main Road 989')\n",
      "('Viola', 'Sideway 1633')\n",
      "('Michelle', 'Blue Village')\n"
     ]
    }
   ],
   "source": [
    "mycursor.execute(\"SELECT name, address FROM customers\")\n",
    "\n",
    "myresult = mycursor.fetchall()\n",
    "\n",
    "for x in myresult:\n",
    "    print(x)\n",
    "    \n",
    "# print(myresult)"
   ]
  },
  {
   "cell_type": "markdown",
   "id": "9abf7626",
   "metadata": {},
   "source": [
    "### fetchone() Method\n",
    "If you are only interested in one row, you can use the fetchone() method.\n",
    "\n",
    "The fetchone() method will return the first row of the result"
   ]
  },
  {
   "cell_type": "code",
   "execution_count": 17,
   "id": "18b56ef4",
   "metadata": {},
   "outputs": [
    {
     "name": "stdout",
     "output_type": "stream",
     "text": [
      "('John', 'Highway 21', 1)\n"
     ]
    }
   ],
   "source": [
    "mycursor.execute(\"SELECT * FROM customers\")\n",
    "\n",
    "myresult = mycursor.fetchone()\n",
    "\n",
    "print(myresult)"
   ]
  },
  {
   "cell_type": "markdown",
   "id": "53f4d0b6",
   "metadata": {},
   "source": [
    "### Where"
   ]
  },
  {
   "cell_type": "code",
   "execution_count": 18,
   "id": "ef334bdf",
   "metadata": {},
   "outputs": [
    {
     "name": "stdout",
     "output_type": "stream",
     "text": [
      "('Ben', 'Park Lane 38', 11)\n"
     ]
    }
   ],
   "source": [
    "# Select record(s) where the address is \"Park Lane 38\"\n",
    "import mysql.connector\n",
    "\n",
    "# Assuming you have already defined your connection parameters\n",
    "mydb = mysql.connector.connect(\n",
    "    host=\"localhost\",\n",
    "    user=\"root\",\n",
    "    password=\"poonam123\",\n",
    "    database=\"MYDB\"\n",
    ")\n",
    "\n",
    "mycursor = mydb.cursor()\n",
    "sql = \"SELECT * FROM customers WHERE address ='Park Lane 38' \"\n",
    "\n",
    "mycursor.execute(sql)\n",
    "\n",
    "myresult = mycursor.fetchall()\n",
    "\n",
    "for x in myresult:\n",
    "    print(x)"
   ]
  },
  {
   "cell_type": "markdown",
   "id": "91751f02",
   "metadata": {},
   "source": [
    "### Wildcard Characters\n",
    "select the records that starts, includes, or ends with a given letter or phrase.\n",
    "\n",
    "Use the %  to represent wildcard characters"
   ]
  },
  {
   "cell_type": "code",
   "execution_count": 19,
   "id": "4db19e7e",
   "metadata": {},
   "outputs": [
    {
     "name": "stdout",
     "output_type": "stream",
     "text": [
      "('John', 'Highway 21', 1)\n",
      "('Susan', 'One way 98', 9)\n",
      "('Viola', 'Sideway 1633', 14)\n"
     ]
    }
   ],
   "source": [
    "# Select records where the address contains the word \"way\"\n",
    "\n",
    "sql = \"SELECT * FROM customers WHERE address LIKE '%way%'\"\n",
    "\n",
    "mycursor.execute(sql)\n",
    "\n",
    "myresult = mycursor.fetchall()\n",
    "\n",
    "for x in myresult:\n",
    "    print(x)"
   ]
  },
  {
   "cell_type": "code",
   "execution_count": 20,
   "id": "013f849d",
   "metadata": {},
   "outputs": [
    {
     "name": "stdout",
     "output_type": "stream",
     "text": [
      "('Vicky', 'Yellow Garden 2', 10)\n"
     ]
    }
   ],
   "source": [
    "sql = \"SELECT * FROM customers WHERE address = %s\"\n",
    "adr = (\"Yellow Garden 2\", )\n",
    "\n",
    "mycursor.execute(sql, adr)\n",
    "\n",
    "myresult = mycursor.fetchall()\n",
    "\n",
    "for x in myresult:\n",
    "    print(x)"
   ]
  },
  {
   "cell_type": "markdown",
   "id": "4bd25304",
   "metadata": {},
   "source": [
    "### Order by\n",
    "\n",
    "#### Sort the Result\n",
    "Use the ORDER BY statement to sort the result in ascending or descending order.\n",
    "\n",
    "The ORDER BY keyword sorts the result ascending by default. To sort the result in descending order, use the DESC keyword."
   ]
  },
  {
   "cell_type": "code",
   "execution_count": 21,
   "id": "a7e9f4ae",
   "metadata": {},
   "outputs": [
    {
     "name": "stdout",
     "output_type": "stream",
     "text": [
      "('Amy', 'Apple st 652', 3)\n",
      "('Ben', 'Park Lane 38', 11)\n",
      "('Betty', 'Green Grass 1', 7)\n",
      "('Chuck', 'Main Road 989', 13)\n",
      "('Hannah', 'Mountain 21', 4)\n",
      "('John', 'Highway 21', 1)\n",
      "('Michael', 'Valley 345', 5)\n",
      "('Michelle', 'Blue Village', 15)\n",
      "('Peter', 'Lowstreet 4', 2)\n",
      "('Richard', 'Sky st 331', 8)\n",
      "('Sandy', 'Ocean blvd 2', 6)\n",
      "('Susan', 'One way 98', 9)\n",
      "('Vicky', 'Yellow Garden 2', 10)\n",
      "('Viola', 'Sideway 1633', 14)\n",
      "('William', 'Central st 954', 12)\n"
     ]
    }
   ],
   "source": [
    "mycursor = mydb.cursor()\n",
    "\n",
    "sql = \"SELECT * FROM customers ORDER BY name\"\n",
    "\n",
    "mycursor.execute(sql)\n",
    "\n",
    "myresult = mycursor.fetchall()\n",
    "\n",
    "for x in myresult:\n",
    "    print(x)"
   ]
  },
  {
   "cell_type": "code",
   "execution_count": 22,
   "id": "e7344160",
   "metadata": {},
   "outputs": [
    {
     "name": "stdout",
     "output_type": "stream",
     "text": [
      "('William', 'Central st 954', 12)\n",
      "('Viola', 'Sideway 1633', 14)\n",
      "('Vicky', 'Yellow Garden 2', 10)\n",
      "('Susan', 'One way 98', 9)\n",
      "('Sandy', 'Ocean blvd 2', 6)\n",
      "('Richard', 'Sky st 331', 8)\n",
      "('Peter', 'Lowstreet 4', 2)\n",
      "('Michelle', 'Blue Village', 15)\n",
      "('Michael', 'Valley 345', 5)\n",
      "('John', 'Highway 21', 1)\n",
      "('Hannah', 'Mountain 21', 4)\n",
      "('Chuck', 'Main Road 989', 13)\n",
      "('Betty', 'Green Grass 1', 7)\n",
      "('Ben', 'Park Lane 38', 11)\n",
      "('Amy', 'Apple st 652', 3)\n"
     ]
    }
   ],
   "source": [
    "mycursor = mydb.cursor()\n",
    "\n",
    "sql = \"SELECT * FROM customers ORDER BY name DESC\"\n",
    "\n",
    "mycursor.execute(sql)\n",
    "\n",
    "myresult = mycursor.fetchall()\n",
    "\n",
    "for x in myresult:\n",
    "    print(x)"
   ]
  },
  {
   "cell_type": "markdown",
   "id": "0b61a588",
   "metadata": {},
   "source": [
    "### Delete Record\n",
    "You can delete records from an existing table by using the \"DELETE FROM\" statement:"
   ]
  },
  {
   "cell_type": "code",
   "execution_count": 23,
   "id": "7f016339",
   "metadata": {},
   "outputs": [
    {
     "name": "stdout",
     "output_type": "stream",
     "text": [
      "1 record(s) deleted\n"
     ]
    }
   ],
   "source": [
    "#Delete any record where the address is \"Mountain 21\"\n",
    "\n",
    "sql = \"DELETE FROM customers WHERE address = 'Mountain 21'\"\n",
    "\n",
    "mycursor.execute(sql)\n",
    "\n",
    "mydb.commit()\n",
    "\n",
    "print(mycursor.rowcount, \"record(s) deleted\")"
   ]
  },
  {
   "cell_type": "markdown",
   "id": "358a510a",
   "metadata": {},
   "source": [
    "**The WHERE clause specifies which record(s) that should be deleted. If you omit the WHERE clause, all records will be deleted!**"
   ]
  },
  {
   "cell_type": "code",
   "execution_count": 24,
   "id": "e6a04e37",
   "metadata": {},
   "outputs": [
    {
     "name": "stdout",
     "output_type": "stream",
     "text": [
      "1 record(s) deleted\n"
     ]
    }
   ],
   "source": [
    "#scape values by using the placeholder %s method\n",
    "\n",
    "mycursor = mydb.cursor()\n",
    "\n",
    "sql = \"DELETE FROM customers WHERE address = %s\"\n",
    "adr = (\"Yellow Garden 2\", )\n",
    "\n",
    "mycursor.execute(sql, adr)\n",
    "\n",
    "mydb.commit()\n",
    "\n",
    "print(mycursor.rowcount, \"record(s) deleted\")"
   ]
  },
  {
   "cell_type": "markdown",
   "id": "0ffecf47",
   "metadata": {},
   "source": [
    "### Delete a Table\n",
    "You can delete an existing table by using the \"DROP TABLE\" statement:"
   ]
  },
  {
   "cell_type": "code",
   "execution_count": null,
   "id": "0fca74ef",
   "metadata": {},
   "outputs": [],
   "source": [
    "#Delete the table \"customers\"\n",
    "\n",
    "sql = \"DROP TABLE customers\"\n",
    "\n",
    "mycursor.execute(sql)"
   ]
  },
  {
   "cell_type": "markdown",
   "id": "b8faa015",
   "metadata": {},
   "source": [
    "### Drop Only if Exist\n",
    "If the table you want to delete is already deleted, or for any other reason does not exist, you can use the IF EXISTS keyword to avoid getting an error."
   ]
  },
  {
   "cell_type": "code",
   "execution_count": null,
   "id": "aed620fc",
   "metadata": {},
   "outputs": [],
   "source": [
    "# Delete the table \"customers\" if it exists\n",
    "\n",
    "sql = \"DROP TABLE IF EXISTS customers\"\n",
    "\n",
    "mycursor.execute(sql)"
   ]
  },
  {
   "cell_type": "markdown",
   "id": "d0721241",
   "metadata": {},
   "source": [
    "### Update Table\n",
    "You can update existing records in a table by using the \"UPDATE\" statement"
   ]
  },
  {
   "cell_type": "code",
   "execution_count": null,
   "id": "023db1f6",
   "metadata": {},
   "outputs": [],
   "source": [
    "# Overwrite the address column from \"Valley 345\" to \"Canyon 123\"\n",
    "\n",
    "sql = \"UPDATE customers SET address = 'Canyon 123' WHERE address = 'Valley 345'\"\n",
    "\n",
    "mycursor.execute(sql)\n",
    "\n",
    "mydb.commit()\n",
    "\n",
    "print(mycursor.rowcount, \"record(s) affected\")"
   ]
  },
  {
   "cell_type": "markdown",
   "id": "8f436c00",
   "metadata": {},
   "source": [
    "### Limit the Result\n",
    "You can limit the number of records returned from the query, by using the \"LIMIT\" statement"
   ]
  },
  {
   "cell_type": "code",
   "execution_count": null,
   "id": "7bba5536",
   "metadata": {},
   "outputs": [],
   "source": [
    "# Select the 5 first records in the \"customers\" table\n",
    "\n",
    "mycursor.execute(\"SELECT * FROM customers LIMIT 5\")\n",
    "\n",
    "myresult = mycursor.fetchall()\n",
    "\n",
    "for x in myresult:\n",
    "    print(x)"
   ]
  },
  {
   "cell_type": "markdown",
   "id": "090a2ad4",
   "metadata": {},
   "source": [
    "### Start From Another Position\n",
    "If you want to return five records, starting from the third record, you can use the \"OFFSET\" keyword"
   ]
  },
  {
   "cell_type": "code",
   "execution_count": null,
   "id": "ea132470",
   "metadata": {},
   "outputs": [],
   "source": [
    "# Start from position 3, and return 5 records\n",
    "\n",
    "mycursor.execute(\"SELECT * FROM customers LIMIT 5 OFFSET 2\")\n",
    "\n",
    "myresult = mycursor.fetchall()\n",
    "\n",
    "for x in myresult:\n",
    "    print(x)"
   ]
  },
  {
   "cell_type": "markdown",
   "id": "f5b76572",
   "metadata": {},
   "source": [
    "### Join Two or More Tables\n",
    "You can combine rows from two or more tables, based on a related column between them, by using a JOIN statement.\n",
    "\n",
    "Consider you have a \"users\" table and a \"products\" table"
   ]
  },
  {
   "cell_type": "code",
   "execution_count": null,
   "id": "eb1c2f2a",
   "metadata": {},
   "outputs": [],
   "source": [
    "mycursor = mydb.cursor()\n",
    "\n",
    "mycursor.execute(\"CREATE TABLE users (id INT, name VARCHAR(255), fav VARCHAR(255))\")\n",
    "\n",
    "sql = \"INSERT INTO users (id, name) VALUES (%s, %s)\"\n",
    "val = [\n",
    "  { id: 1, name: 'John', fav: 154},\n",
    "{ id: 2, name: 'Peter', fav: 154},\n",
    "{ id: 3, name: 'Amy', fav: 155},\n",
    "{ id: 4, name: 'Hannah', fav:},\n",
    "{ id: 5, name: 'Michael', fav:}\n",
    "]\n",
    "\n",
    "mycursor.executemany(sql, val)\n",
    "\n",
    "mydb.commit()\n",
    "\n",
    "mycursor.execute(\"SELECT * FROM users\")\n",
    "\n",
    "myresult = mycursor.fetchall() # fetchall() method fetches all rows from the last executed statement\n",
    "\n",
    "for x in myresult:\n",
    "    print(x)"
   ]
  },
  {
   "cell_type": "code",
   "execution_count": null,
   "id": "fcba588f",
   "metadata": {},
   "outputs": [],
   "source": [
    "mycursor = mydb.cursor()\n",
    "\n",
    "mycursor.execute(\"CREATE TABLE products (id INT, name VARCHAR(255))\")\n",
    "\n",
    "sql = \"INSERT INTO users (id, name) VALUES (%s, %s)\"\n",
    "val = [{ id: 154, name: 'Chocolate Heaven' },\n",
    "{ id: 155, name: 'Tasty Lemons' },\n",
    "{ id: 156, name: 'Vanilla Dreams' }]\n",
    "\n",
    "mycursor.executemany(sql, val)\n",
    "\n",
    "mydb.commit()\n",
    "\n",
    "mycursor.execute(\"SELECT * FROM products\")\n",
    "\n",
    "myresult = mycursor.fetchall() # fetchall() method fetches all rows from the last executed statement\n",
    "\n",
    "for x in myresult:\n",
    "    print(x)"
   ]
  },
  {
   "cell_type": "markdown",
   "id": "8c37a4b2",
   "metadata": {},
   "source": [
    "### Join / Inner Join "
   ]
  },
  {
   "cell_type": "code",
   "execution_count": null,
   "id": "1c99ba7b",
   "metadata": {},
   "outputs": [],
   "source": [
    "sql = \"SELECT \\\n",
    "  users.name AS user, \\\n",
    "  products.name AS favorite \\\n",
    "  FROM users \\\n",
    "  INNER JOIN products ON users.fav = products.id\"\n",
    "\n",
    "mycursor.execute(sql)\n",
    "\n",
    "myresult = mycursor.fetchall()\n",
    "\n",
    "for x in myresult:\n",
    "    print(x)"
   ]
  },
  {
   "cell_type": "markdown",
   "id": "2ffb9a15",
   "metadata": {},
   "source": [
    "### LEFT JOIN"
   ]
  },
  {
   "cell_type": "code",
   "execution_count": null,
   "id": "1b739787",
   "metadata": {},
   "outputs": [],
   "source": [
    "sql = \"SELECT \\\n",
    "  users.name AS user, \\\n",
    "  products.name AS favorite \\\n",
    "  FROM users \\\n",
    "  LEFT JOIN products ON users.fav = products.id\"\n",
    "\n",
    "mycursor.execute(sql)\n",
    "\n",
    "myresult = mycursor.fetchall()\n",
    "\n",
    "for x in myresult:\n",
    "    print(x)"
   ]
  },
  {
   "cell_type": "markdown",
   "id": "8d60e590",
   "metadata": {},
   "source": [
    "### RIGHT JOIN"
   ]
  },
  {
   "cell_type": "code",
   "execution_count": null,
   "id": "b8814dfd",
   "metadata": {},
   "outputs": [],
   "source": [
    "sql = \"SELECT \\\n",
    "  users.name AS user, \\\n",
    "  products.name AS favorite \\\n",
    "  FROM users \\\n",
    "  RIGHT JOIN products ON users.fav = products.id\"\n",
    "\n",
    "mycursor.execute(sql)\n",
    "\n",
    "myresult = mycursor.fetchall()\n",
    "\n",
    "for x in myresult:\n",
    "    print(x)"
   ]
  }
 ],
 "metadata": {
  "kernelspec": {
   "display_name": "Python 3 (ipykernel)",
   "language": "python",
   "name": "python3"
  },
  "language_info": {
   "codemirror_mode": {
    "name": "ipython",
    "version": 3
   },
   "file_extension": ".py",
   "mimetype": "text/x-python",
   "name": "python",
   "nbconvert_exporter": "python",
   "pygments_lexer": "ipython3",
   "version": "3.11.5"
  }
 },
 "nbformat": 4,
 "nbformat_minor": 5
}
